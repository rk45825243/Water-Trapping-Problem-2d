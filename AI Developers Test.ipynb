{
 "cells": [
  {
   "cell_type": "code",
   "execution_count": 25,
   "metadata": {},
   "outputs": [],
   "source": [
    "from heapq import heappush, heappop\n",
    "from six.moves import xrange\n",
    "import numpy as np\n",
    "\n",
    "class Solution():\n",
    "    def WaterStoredInPlatform(self, heightMap):\n",
    "        \n",
    "        \n",
    "        m = len(heightMap)\n",
    "        if not m:\n",
    "            return 0\n",
    "        n = len(heightMap[0])\n",
    "        if not n:\n",
    "            return 0\n",
    "\n",
    "        is_visited = [[False for i in xrange(n)] for j in xrange(m)]\n",
    "\n",
    "        heap = []\n",
    "        for i in xrange(m):\n",
    "            heappush(heap, [heightMap[i][0], i, 0])\n",
    "            is_visited[i][0] = True\n",
    "            heappush(heap, [heightMap[i][n-1], i, n-1])\n",
    "            is_visited[i][n-1] = True\n",
    "        for j in xrange(n):\n",
    "            heappush(heap, [heightMap[0][j], 0, j])\n",
    "            is_visited[0][j] = True\n",
    "            heappush(heap, [heightMap[m-1][j], m-1, j])\n",
    "            is_visited[m-1][j] = True\n",
    "\n",
    "        trap = 0\n",
    "        while heap:\n",
    "            height, i, j = heappop(heap)\n",
    "            for (dx, dy) in [(1,0), (-1,0), (0,1), (0,-1)]:\n",
    "                x, y = i+dx, j+dy\n",
    "                if 0 <= x < m and 0 <= y < n and not is_visited[x][y]:\n",
    "                    trap += max(0, height - heightMap[x][y])\n",
    "                    heappush(heap, [max(height, heightMap[x][y]), x, y])\n",
    "                    is_visited[x][y] = True\n",
    "\n",
    "        return trap\n"
   ]
  },
  {
   "cell_type": "code",
   "execution_count": 28,
   "metadata": {},
   "outputs": [
    {
     "name": "stdout",
     "output_type": "stream",
     "text": [
      "the answer is 0\n"
     ]
    }
   ],
   "source": [
    "if __name__ == \"__main__\":\n",
    "    qwe=np.array([ [2,2,2],[2,2,2],[2,2,2]])    #test case \n",
    "    sol=Solution()\n",
    "    print (\"the answer is\",    sol.WaterStoredInPlatform(qwe))"
   ]
  },
  {
   "cell_type": "code",
   "execution_count": 20,
   "metadata": {},
   "outputs": [
    {
     "name": "stdout",
     "output_type": "stream",
     "text": [
      "the answer is 1\n"
     ]
    }
   ],
   "source": [
    "if __name__ == \"__main__\":\n",
    "    qwe=np.array([ [2,2,2],[2,1,2],[2,2,2]])    #test case \n",
    "    sol=Solution()\n",
    "    print (\"the answer is\",    sol.WaterStoredInPlatform(qwe))\n"
   ]
  },
  {
   "cell_type": "code",
   "execution_count": 22,
   "metadata": {},
   "outputs": [
    {
     "name": "stdout",
     "output_type": "stream",
     "text": [
      "the answer is 10\n"
     ]
    }
   ],
   "source": [
    "if __name__ == \"__main__\":\n",
    "    qwe=np.array([ [3,5,3,3,3,3],[3,1,2,3,1,3],[3,1,2,3,1,3],[3,3,3,1,3,3]])    #test case \n",
    "    sol=Solution()\n",
    "    print (\"the answer is\",    sol.WaterStoredInPlatform(qwe))"
   ]
  },
  {
   "cell_type": "code",
   "execution_count": 23,
   "metadata": {},
   "outputs": [
    {
     "name": "stdout",
     "output_type": "stream",
     "text": [
      "the answer is 32\n"
     ]
    }
   ],
   "source": [
    "if __name__ == \"__main__\":\n",
    "    qwe=np.array([ [5,5,5,5,5,],[9,1,1,1,5],[5,1,5,1,5],[5,1,1,1,5],[5,5,5,5,5]])    #test case \n",
    "    sol=Solution()\n",
    "    print (\"the answer is\",    sol.WaterStoredInPlatform(qwe))"
   ]
  }
 ],
 "metadata": {
  "kernelspec": {
   "display_name": "Python 3",
   "language": "python",
   "name": "python3"
  },
  "language_info": {
   "codemirror_mode": {
    "name": "ipython",
    "version": 3
   },
   "file_extension": ".py",
   "mimetype": "text/x-python",
   "name": "python",
   "nbconvert_exporter": "python",
   "pygments_lexer": "ipython3",
   "version": "3.6.5"
  }
 },
 "nbformat": 4,
 "nbformat_minor": 2
}
